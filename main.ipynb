{
 "cells": [
  {
   "cell_type": "code",
   "execution_count": null,
   "id": "bf27eb92",
   "metadata": {},
   "outputs": [
    {
     "name": "stdout",
     "output_type": "stream",
     "text": [
      "✅ RTSP stream opened. Running inference...\n"
     ]
    },
    {
     "ename": "",
     "evalue": "",
     "output_type": "error",
     "traceback": [
      "\u001b[1;31mThe Kernel crashed while executing code in the current cell or a previous cell. \n",
      "\u001b[1;31mPlease review the code in the cell(s) to identify a possible cause of the failure. \n",
      "\u001b[1;31mClick <a href='https://aka.ms/vscodeJupyterKernelCrash'>here</a> for more info. \n",
      "\u001b[1;31mView Jupyter <a href='command:jupyter.viewOutput'>log</a> for further details."
     ]
    }
   ],
   "source": [
    "import cv2\n",
    "from CrowdDet.tools.inference_edit import run_inference\n",
    "import os\n",
    "\n",
    "def process_rtsp_stream(model_dir, url):\n",
    "    cv2.setUseOptimized(True)\n",
    "    cv2.cuda.setDevice(0)\n",
    "    run_inference(\n",
    "                model_dir=model_dir,\n",
    "                rstp_link=url\n",
    "            )\n",
    "    # cap = cv2.VideoCapture(rtsp_url)\n",
    "    # if not cap.isOpened():\n",
    "    #     print(f\"❌ Unable to open RTSP stream: {rtsp_url}\")\n",
    "    #     return\n",
    "\n",
    "    # print(f\"✅ RTSP stream opened: {rtsp_url}\\nProcessing frames...\")\n",
    "    # frame_count = 0\n",
    "\n",
    "    # while True:\n",
    "    #     ret, frame = cap.read()\n",
    "    #     if not ret:\n",
    "    #         print(\"⚠️ Failed to grab frame.\")\n",
    "    #         break\n",
    "\n",
    "    #     # Save the current frame to disk\n",
    "    #     frame_path = os.path.join('temp_frames', f'frame_{frame_count:05d}.jpg')\n",
    "    #     cv2.imwrite(frame_path, frame)\n",
    "\n",
    "    #     try:\n",
    "    #         # Run inference on saved frame\n",
    "    #         image = run_inference(\n",
    "    #             model_dir=model_dir,\n",
    "    #             resume_weights=resume_weights,\n",
    "    #             img_path=frame_path\n",
    "    #         )\n",
    "\n",
    "    #         if image is not None and image.size > 0:\n",
    "    #             cv2.imshow('Detection Output', image)\n",
    "    #         else:\n",
    "    #             print(f\"⚠️ Empty or invalid image output from inference at frame {frame_count}.\")\n",
    "\n",
    "    #     except Exception as e:\n",
    "    #         print(f\"❌ Error during inference on frame {frame_count}: {e}\")\n",
    "\n",
    "    #     key = cv2.waitKey(1)\n",
    "    #     if key in [27, ord('q')]:  # ESC or 'q' to quit\n",
    "    #         break\n",
    "\n",
    "    #     frame_count += 1\n",
    "\n",
    "    # cap.release()\n",
    "    # cv2.destroyAllWindows()\n",
    "\n",
    "if __name__ == '__main__':\n",
    "    # Replace with your actual RTSP URL and model info\n",
    "    camera_urls = [\n",
    "        # \"rtsp://172.14.0.187:554/rtsp/streaming?channel=01&subtype=0&transport=tcp\", # OUT\n",
    "        # \"rtsp://admin:Capsi@24@172.14.0.111:554/?transport=tcp\", \n",
    "        # \"rtsp://admin:Capsi@24@172.14.0.112:554/?transport=tcp\", # D,C\n",
    "        # \"rtsp://admin:Capsi@24@172.14.0.113:554/?transport=tcp\", \n",
    "        # \"rtsp://admin:Capsi@24@172.14.0.114:554/?transport=tcp\", \n",
    "        # \"rtsp://admin:Capsi@24@172.14.0.115:554/?transport=tcp\", \n",
    "        # \"rtsp://admin:Capsi@24@172.14.0.116:554/?transport=tcp\", # B\n",
    "        # \"rtsp://admin:Capsi@24@172.14.0.117:554/?transport=tcp\", # K,L\n",
    "    #     \"rtsp://admin:Capsi@24@172.14.0.118:554/?transport=tcp\", \n",
    "    #     \"rtsp://admin:Capsi@24@172.14.0.119:554/?transport=tcp\", # C,D\n",
    "    #     \"rtsp://admin:Capsi@24@172.14.0.120:554/?transport=tcp\", # B\n",
    "    #     \"rtsp://admin:Capsi@24@172.14.0.121:554/?transport=tcp\", # L,K\n",
    "    #     \"rtsp://admin:Capsi@24@172.14.0.122:554/?transport=tcp\", # M\n",
    "    #     \"rtsp://admin:Capsi@24@172.14.0.123:554/?transport=tcp\", \n",
    "    #     \"rtsp://admin:Capsi@24@172.14.0.124:554/?transport=tcp\", # M\n",
    "    #     \"rtsp://admin:Capsi@24@172.14.0.125:554/?transport=tcp\",\n",
    "    #     \"rtsp://admin:Capsi@24@172.14.0.181:554/?transport=tcp\",\n",
    "    #     \"rtsp://admin:Capsi@24@172.14.0.182:554/?transport=tcp\",\n",
    "    #     \"rtsp://admin:Capsi@24@172.14.0.183:554/?transport=tcp\",\n",
    "          \"rtsp://admin:Capsi@24@172.14.0.179:554/?transport=tcp\"\n",
    "          \"rtsp://admin:Capsi@24@172.14.0.178:554/?transport=tcp\"\n",
    "    #     \n",
    "    ]\n",
    "    model_dir = r'D:\\Arka\\CrowdDet_Custom\\CrowdDet\\model\\retina_emd_simple'\n",
    "\n",
    "    import os\n",
    "    os.makedirs('temp_frames', exist_ok=True)\n",
    "    os.makedirs('outputs', exist_ok=True)\n",
    "\n",
    "    for url in camera_urls:\n",
    "        process_rtsp_stream(model_dir, url)"
   ]
  },
  {
   "cell_type": "code",
   "execution_count": null,
   "id": "1c5be6fb",
   "metadata": {},
   "outputs": [],
   "source": []
  }
 ],
 "metadata": {
  "kernelspec": {
   "display_name": "Python 3",
   "language": "python",
   "name": "python3"
  },
  "language_info": {
   "codemirror_mode": {
    "name": "ipython",
    "version": 3
   },
   "file_extension": ".py",
   "mimetype": "text/x-python",
   "name": "python",
   "nbconvert_exporter": "python",
   "pygments_lexer": "ipython3",
   "version": "3.12.7"
  }
 },
 "nbformat": 4,
 "nbformat_minor": 5
}
